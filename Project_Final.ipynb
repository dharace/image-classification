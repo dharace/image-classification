{
  "cells": [
    {
      "cell_type": "code",
      "execution_count": null,
      "metadata": {
        "id": "ADbPssiI7l-x"
      },
      "outputs": [],
      "source": [
        "# This Python 3 environment comes with many helpful analytics libraries installed\n",
        "# It is defined by the kaggle/python Docker image: https://github.com/kaggle/docker-python\n",
        "# For example, here's several helpful packages to load\n",
        "\n",
        "import numpy as np # linear algebra\n",
        "import pandas as pd # data processing, CSV file I/O (e.g. pd.read_csv)\n",
        "import matplotlib.pyplot as plt\n",
        "import tensorflow as tf\n",
        "\n",
        "# Input data files are available in the read-only \"../input/\" directory\n",
        "# For example, running this (by clicking run or pressing Shift+Enter) will list all files under the input directory\n",
        "\n",
        "import os\n",
        "import zipfile\n",
        "import tqdm\n",
        "# for dirname, _, filenames in os.walk('/kaggle/input'):\n",
        "#     for filename in filenames:\n",
        "#         print(os.path.join(dirname, filename))\n",
        "\n",
        "# You can write up to 20GB to the current directory (/kaggle/working/) that gets preserved as output when you create a version using \"Save & Run All\" \n",
        "# You can also write temporary files to /kaggle/temp/, but they won't be saved outside of the current session"
      ]
    },
    {
      "cell_type": "code",
      "execution_count": null,
      "metadata": {
        "id": "byTv4foP8FMw"
      },
      "outputs": [],
      "source": [
        "root = './'\n",
        "root_temp = './'"
      ]
    },
    {
      "cell_type": "code",
      "execution_count": null,
      "metadata": {
        "id": "9DL97o2GR7x9"
      },
      "outputs": [],
      "source": [
        "#Unzips files\n",
        "with zipfile.ZipFile(os.path.join('./train.zip'), 'r') as zip_ref:\n",
        "    zip_ref.extractall(os.path.join(root_temp))\n",
        "with zipfile.ZipFile(os.path.join('./test1.zip'), 'r') as zip_ref:\n",
        "    zip_ref.extractall(os.path.join(root_temp))"
      ]
    },
    {
      "cell_type": "code",
      "execution_count": null,
      "metadata": {
        "id": "XNhPDfAW9Np1"
      },
      "outputs": [],
      "source": [
        "train_images = [fname \n",
        "                for fname in os.listdir(os.path.join(root_temp,'train'))]\n",
        "test_images = [fname \n",
        "               for fname in os.listdir(os.path.join(root_temp,'test1'))]"
      ]
    },
    {
      "cell_type": "code",
      "execution_count": null,
      "metadata": {
        "colab": {
          "base_uri": "https://localhost:8080/"
        },
        "id": "iJCU2xfb8cWT",
        "outputId": "ab4d227a-fc65-49c1-f2e5-791c3ea3b0a1"
      },
      "outputs": [
        {
          "output_type": "stream",
          "name": "stdout",
          "text": [
            "total number in training set  25000\n",
            "total number in test set  12500\n"
          ]
        }
      ],
      "source": [
        "print('total number in training set ', len(train_images))\n",
        "print('total number in test set ', len(test_images))"
      ]
    },
    {
      "cell_type": "code",
      "execution_count": null,
      "metadata": {
        "colab": {
          "base_uri": "https://localhost:8080/",
          "height": 206
        },
        "id": "HolH2Q4i9jJx",
        "outputId": "6b27db38-6e92-4a5e-f032-4d077f2f9ad1"
      },
      "outputs": [
        {
          "output_type": "execute_result",
          "data": {
            "text/html": [
              "<div>\n",
              "<style scoped>\n",
              "    .dataframe tbody tr th:only-of-type {\n",
              "        vertical-align: middle;\n",
              "    }\n",
              "\n",
              "    .dataframe tbody tr th {\n",
              "        vertical-align: top;\n",
              "    }\n",
              "\n",
              "    .dataframe thead th {\n",
              "        text-align: right;\n",
              "    }\n",
              "</style>\n",
              "<table border=\"1\" class=\"dataframe\">\n",
              "  <thead>\n",
              "    <tr style=\"text-align: right;\">\n",
              "      <th></th>\n",
              "      <th>0</th>\n",
              "    </tr>\n",
              "  </thead>\n",
              "  <tbody>\n",
              "    <tr>\n",
              "      <th>0</th>\n",
              "      <td>dog.2366.jpg</td>\n",
              "    </tr>\n",
              "    <tr>\n",
              "      <th>1</th>\n",
              "      <td>cat.3946.jpg</td>\n",
              "    </tr>\n",
              "    <tr>\n",
              "      <th>2</th>\n",
              "      <td>dog.9062.jpg</td>\n",
              "    </tr>\n",
              "    <tr>\n",
              "      <th>3</th>\n",
              "      <td>dog.12477.jpg</td>\n",
              "    </tr>\n",
              "    <tr>\n",
              "      <th>4</th>\n",
              "      <td>dog.9040.jpg</td>\n",
              "    </tr>\n",
              "  </tbody>\n",
              "</table>\n",
              "</div>"
            ],
            "text/plain": [
              "               0\n",
              "0   dog.2366.jpg\n",
              "1   cat.3946.jpg\n",
              "2   dog.9062.jpg\n",
              "3  dog.12477.jpg\n",
              "4   dog.9040.jpg"
            ]
          },
          "metadata": {},
          "execution_count": 11
        }
      ],
      "source": [
        "pd.DataFrame(train_images).head()"
      ]
    },
    {
      "cell_type": "code",
      "execution_count": null,
      "metadata": {
        "colab": {
          "base_uri": "https://localhost:8080/",
          "height": 206
        },
        "id": "Fsls99zn9k5K",
        "outputId": "99264fbe-ae24-4ff8-bf7e-2dbaade8a300"
      },
      "outputs": [
        {
          "output_type": "execute_result",
          "data": {
            "text/html": [
              "<div>\n",
              "<style scoped>\n",
              "    .dataframe tbody tr th:only-of-type {\n",
              "        vertical-align: middle;\n",
              "    }\n",
              "\n",
              "    .dataframe tbody tr th {\n",
              "        vertical-align: top;\n",
              "    }\n",
              "\n",
              "    .dataframe thead th {\n",
              "        text-align: right;\n",
              "    }\n",
              "</style>\n",
              "<table border=\"1\" class=\"dataframe\">\n",
              "  <thead>\n",
              "    <tr style=\"text-align: right;\">\n",
              "      <th></th>\n",
              "      <th>0</th>\n",
              "    </tr>\n",
              "  </thead>\n",
              "  <tbody>\n",
              "    <tr>\n",
              "      <th>0</th>\n",
              "      <td>9091.jpg</td>\n",
              "    </tr>\n",
              "    <tr>\n",
              "      <th>1</th>\n",
              "      <td>9092.jpg</td>\n",
              "    </tr>\n",
              "    <tr>\n",
              "      <th>2</th>\n",
              "      <td>3334.jpg</td>\n",
              "    </tr>\n",
              "    <tr>\n",
              "      <th>3</th>\n",
              "      <td>7739.jpg</td>\n",
              "    </tr>\n",
              "    <tr>\n",
              "      <th>4</th>\n",
              "      <td>1379.jpg</td>\n",
              "    </tr>\n",
              "  </tbody>\n",
              "</table>\n",
              "</div>"
            ],
            "text/plain": [
              "          0\n",
              "0  9091.jpg\n",
              "1  9092.jpg\n",
              "2  3334.jpg\n",
              "3  7739.jpg\n",
              "4  1379.jpg"
            ]
          },
          "metadata": {},
          "execution_count": 12
        }
      ],
      "source": [
        "pd.DataFrame(test_images).head()"
      ]
    },
    {
      "cell_type": "code",
      "execution_count": null,
      "metadata": {
        "id": "NY9qztg29mxy"
      },
      "outputs": [],
      "source": [
        "train_cats = []\n",
        "train_dogs = []\n",
        "for image in train_images:\n",
        "    if 'cat' in image:\n",
        "        train_cats.append(image)\n",
        "    else: train_dogs.append(image)"
      ]
    },
    {
      "cell_type": "code",
      "execution_count": null,
      "metadata": {
        "colab": {
          "base_uri": "https://localhost:8080/"
        },
        "id": "73ZJZntU9odP",
        "outputId": "a6a560b7-3c9e-4add-e8d7-acd8848b9fcc"
      },
      "outputs": [
        {
          "output_type": "stream",
          "name": "stdout",
          "text": [
            "total number of cats in training set  12500\n",
            "total number of dogs in training set  12500\n",
            "total number of images in test set  12500\n"
          ]
        }
      ],
      "source": [
        "print('total number of cats in training set ', len(train_cats))\n",
        "print('total number of dogs in training set ', len(train_dogs))\n",
        "print('total number of images in test set ', len(test_images))"
      ]
    },
    {
      "cell_type": "code",
      "execution_count": null,
      "metadata": {
        "id": "wWYD7eWO9p8V"
      },
      "outputs": [],
      "source": [
        "try:\n",
        "    os.mkdir(os.path.join(root_temp,'train','cat'))\n",
        "    os.mkdir(os.path.join(root_temp,'train','dog'))\n",
        "except OSError:\n",
        "    pass"
      ]
    },
    {
      "cell_type": "code",
      "execution_count": null,
      "metadata": {
        "id": "aky2nJX49tym"
      },
      "outputs": [],
      "source": [
        "import shutil \n",
        "\n",
        "for image in train_cats:\n",
        "    shutil.move(os.path.join(root_temp,'train',image),os.path.join(root_temp,'train','cat',image))\n",
        "    \n",
        "for image in train_dogs:\n",
        "    shutil.move(os.path.join(root_temp,'train',image),os.path.join(root_temp,'train','dog',image))\n",
        "\n",
        "train_root = os.path.join(root_temp,'train') \n",
        "train_cats = os.path.join(train_root,'cat')\n",
        "train_dogs = os.path.join(train_root,'dog')\n",
        "\n",
        "val_root = os.path.join(root_temp,'val')\n",
        "val_cat = os.path.join(val_root,'cat')\n",
        "val_dog = os.path.join(val_root,'dog')\n",
        "\n",
        "root_test = os.path.join(root_temp,'test1')\n",
        "\n",
        "try:\n",
        "    os.mkdir(val_root)\n",
        "    os.mkdir(val_cat)\n",
        "    os.mkdir(val_dog)\n",
        "except OSError:\n",
        "    pass"
      ]
    },
    {
      "cell_type": "code",
      "execution_count": null,
      "metadata": {
        "colab": {
          "base_uri": "https://localhost:8080/"
        },
        "id": "yj3ofynb9yHS",
        "outputId": "d8864051-6a45-4abb-a993-8be6e5a9542e"
      },
      "outputs": [
        {
          "output_type": "stream",
          "name": "stderr",
          "text": [
            "100%|██████████| 1500/1500 [00:18<00:00, 82.91it/s]\n"
          ]
        }
      ],
      "source": [
        "from tqdm import tqdm\n",
        "\n",
        "for index in tqdm(range(1500)):\n",
        "    #moves first 1500 images from /kaggle/working/train/cat to /kaggle/working/val/cat \n",
        "    shutil.move(os.path.join(root_temp,'train','cat',os.listdir(os.path.join(root_temp,'train','cat'))[index]),val_cat)\n",
        "    shutil.move(os.path.join(root_temp,'train','dog',os.listdir(os.path.join(root_temp,'train','dog'))[index]),val_dog)"
      ]
    },
    {
      "cell_type": "code",
      "execution_count": null,
      "metadata": {
        "colab": {
          "base_uri": "https://localhost:8080/"
        },
        "id": "HMFjnVx39z9V",
        "outputId": "d86655e4-17f9-49a7-d3a1-39b39a981cca"
      },
      "outputs": [
        {
          "output_type": "stream",
          "name": "stdout",
          "text": [
            "total number of cats in training folder  11000\n",
            "total number of dogs in training folder  11000\n",
            "total number of cats in validation folder  1500\n",
            "total number of dogs in validation folder  1500\n",
            "total number of iamges in testing folder  12500\n"
          ]
        }
      ],
      "source": [
        "#confirms the number of cats and dogs in folders\n",
        "print('total number of cats in training folder ', len(os.listdir(train_cats)))\n",
        "print('total number of dogs in training folder ', len(os.listdir(train_dogs)))\n",
        "print('total number of cats in validation folder ', len(os.listdir(val_cat)))\n",
        "print('total number of dogs in validation folder ', len(os.listdir(val_dog)))\n",
        "print('total number of iamges in testing folder ', len(os.listdir(root_test)))"
      ]
    },
    {
      "cell_type": "code",
      "execution_count": null,
      "metadata": {
        "id": "Z8ArbS3K91l6"
      },
      "outputs": [],
      "source": [
        "desired_accuracy = 0.95\n",
        "\n",
        "class my_callback(tf.keras.callbacks.Callback):\n",
        "    def on_epoch_end(self, epochs, log ={}):\n",
        "        if (log.get('accuracy')>desired_accuracy):\n",
        "            print('\\Accuracy of {} reached, stopping training '.format(desired_accuracy))\n",
        "            self.model.stop_training = True\n",
        "\n",
        "stop_training_callback = my_callback"
      ]
    },
    {
      "cell_type": "code",
      "execution_count": null,
      "metadata": {
        "id": "UEM_ak5yMtWU"
      },
      "outputs": [],
      "source": [
        "from tensorflow.keras.preprocessing.image import ImageDataGenerator\n",
        "\n",
        "train_gen = ImageDataGenerator(rescale = (1./255))\n",
        "test_gen = ImageDataGenerator(rescale = (1./255))"
      ]
    },
    {
      "cell_type": "code",
      "execution_count": null,
      "metadata": {
        "colab": {
          "base_uri": "https://localhost:8080/"
        },
        "id": "bF1NdWawMiQY",
        "outputId": "9aab3097-e07d-4971-ad59-a18b5c22e749"
      },
      "outputs": [
        {
          "output_type": "stream",
          "name": "stdout",
          "text": [
            "Found 22000 images belonging to 2 classes.\n",
            "Found 3000 images belonging to 2 classes.\n",
            "Found 0 images belonging to 0 classes.\n"
          ]
        }
      ],
      "source": [
        "train_flow = train_gen.flow_from_directory(train_root, \n",
        "                                           target_size = (150,150),\n",
        "                                          batch_size=25,\n",
        "                                          class_mode = 'binary')\n",
        "val_flow = test_gen.flow_from_directory(val_root, \n",
        "                                        target_size = (150,150),\n",
        "                                        batch_size=25,\n",
        "                                        class_mode = 'binary')\n",
        "test_flow = test_gen.flow_from_directory(root_test, \n",
        "                                        target_size = (150,150),\n",
        "                                        batch_size=25,\n",
        "                                        class_mode = 'binary',\n",
        "                                        shuffle = False)"
      ]
    },
    {
      "cell_type": "code",
      "execution_count": null,
      "metadata": {
        "id": "sLfX7qIwMR4G"
      },
      "outputs": [],
      "source": [
        "# Modelling Time\n",
        "\n",
        "basic_cnn = tf.keras.models.Sequential([\n",
        "    tf.keras.layers.Conv2D(32, (3,3), activation='relu', input_shape=(150, 150, 3)),\n",
        "    tf.keras.layers.MaxPooling2D(2, 2),\n",
        "    tf.keras.layers.Conv2D(64, (3,3), activation='relu'),\n",
        "    tf.keras.layers.MaxPooling2D(2, 2),\n",
        "    tf.keras.layers.Conv2D(64, (3,3), activation='relu'),\n",
        "    tf.keras.layers.MaxPooling2D(2,2),\n",
        "    tf.keras.layers.Conv2D(128, (3,3), activation='relu'),\n",
        "    tf.keras.layers.MaxPooling2D(2,2),\n",
        "    tf.keras.layers.Conv2D(128, (3,3), activation='relu'),\n",
        "    tf.keras.layers.MaxPooling2D(2,2),\n",
        "    tf.keras.layers.Flatten(),\n",
        "    tf.keras.layers.Dense(512, activation='relu'),\n",
        "    tf.keras.layers.Dense(1, activation='sigmoid')\n",
        "])"
      ]
    },
    {
      "cell_type": "code",
      "execution_count": null,
      "metadata": {
        "colab": {
          "base_uri": "https://localhost:8080/"
        },
        "id": "4rvgVRSLMUG9",
        "outputId": "4473e6dd-e2c8-4bce-b26c-2be6c7b1a232"
      },
      "outputs": [
        {
          "output_type": "stream",
          "name": "stdout",
          "text": [
            "Model: \"sequential\"\n",
            "_________________________________________________________________\n",
            " Layer (type)                Output Shape              Param #   \n",
            "=================================================================\n",
            " conv2d (Conv2D)             (None, 148, 148, 32)      896       \n",
            "                                                                 \n",
            " max_pooling2d (MaxPooling2D  (None, 74, 74, 32)       0         \n",
            " )                                                               \n",
            "                                                                 \n",
            " conv2d_1 (Conv2D)           (None, 72, 72, 64)        18496     \n",
            "                                                                 \n",
            " max_pooling2d_1 (MaxPooling  (None, 36, 36, 64)       0         \n",
            " 2D)                                                             \n",
            "                                                                 \n",
            " conv2d_2 (Conv2D)           (None, 34, 34, 64)        36928     \n",
            "                                                                 \n",
            " max_pooling2d_2 (MaxPooling  (None, 17, 17, 64)       0         \n",
            " 2D)                                                             \n",
            "                                                                 \n",
            " conv2d_3 (Conv2D)           (None, 15, 15, 128)       73856     \n",
            "                                                                 \n",
            " max_pooling2d_3 (MaxPooling  (None, 7, 7, 128)        0         \n",
            " 2D)                                                             \n",
            "                                                                 \n",
            " conv2d_4 (Conv2D)           (None, 5, 5, 128)         147584    \n",
            "                                                                 \n",
            " max_pooling2d_4 (MaxPooling  (None, 2, 2, 128)        0         \n",
            " 2D)                                                             \n",
            "                                                                 \n",
            " flatten (Flatten)           (None, 512)               0         \n",
            "                                                                 \n",
            " dense (Dense)               (None, 512)               262656    \n",
            "                                                                 \n",
            " dense_1 (Dense)             (None, 1)                 513       \n",
            "                                                                 \n",
            "=================================================================\n",
            "Total params: 540,929\n",
            "Trainable params: 540,929\n",
            "Non-trainable params: 0\n",
            "_________________________________________________________________\n"
          ]
        }
      ],
      "source": [
        "basic_cnn.summary()\n"
      ]
    },
    {
      "cell_type": "code",
      "execution_count": null,
      "metadata": {
        "colab": {
          "base_uri": "https://localhost:8080/"
        },
        "id": "PCi5mwhyMVz-",
        "outputId": "7cf5e99d-70d2-4789-d71e-c66d15b86441"
      },
      "outputs": [
        {
          "output_type": "stream",
          "name": "stderr",
          "text": [
            "/usr/local/lib/python3.7/dist-packages/ipykernel_launcher.py:7: UserWarning: `Model.fit_generator` is deprecated and will be removed in a future version. Please use `Model.fit`, which supports generators.\n",
            "  import sys\n"
          ]
        },
        {
          "output_type": "stream",
          "name": "stdout",
          "text": [
            "Epoch 1/5\n",
            "100/100 [==============================] - 134s 1s/step - loss: 0.6864 - acc: 0.5424 - val_loss: 0.6782 - val_acc: 0.6024\n",
            "Epoch 2/5\n",
            "100/100 [==============================] - 124s 1s/step - loss: 0.6820 - acc: 0.5560 - val_loss: 0.6705 - val_acc: 0.6184\n",
            "Epoch 3/5\n",
            "100/100 [==============================] - 123s 1s/step - loss: 0.6537 - acc: 0.6236 - val_loss: 0.6783 - val_acc: 0.5576\n",
            "Epoch 4/5\n",
            "100/100 [==============================] - 121s 1s/step - loss: 0.6508 - acc: 0.6140 - val_loss: 0.6398 - val_acc: 0.6264\n",
            "Epoch 5/5\n",
            "100/100 [==============================] - 124s 1s/step - loss: 0.6307 - acc: 0.6356 - val_loss: 0.6193 - val_acc: 0.6440\n"
          ]
        }
      ],
      "source": [
        "basic_cnn.compile(loss = 'binary_crossentropy', metrics =['acc'], optimizer = tf.keras.optimizers.RMSprop(learning_rate = 1e-4))\n",
        "\n",
        "basic_cnn_history = basic_cnn.fit_generator(train_flow,\n",
        "                   validation_data = val_flow,\n",
        "                   steps_per_epoch = 100,\n",
        "                   epochs = 5,\n",
        "                   validation_steps = 50) "
      ]
    },
    {
      "cell_type": "code",
      "execution_count": null,
      "metadata": {
        "id": "p3MEvjuLMZYc"
      },
      "outputs": [],
      "source": [
        "# BUILD CONVOLUTIONAL NEURAL NETWORKS\n",
        "nets = 3\n",
        "model = [0] *nets\n"
      ]
    },
    {
      "cell_type": "code",
      "execution_count": null,
      "metadata": {
        "id": "s98bLODLT1lw"
      },
      "outputs": [],
      "source": [
        "\n",
        "for i in range(3):\n",
        "  model[i] = tf.keras.models.Sequential([\n",
        "      tf.keras.layers.Conv2D(32, (3,3), activation='relu', input_shape=(150, 150, 3)),\n",
        "      tf.keras.layers.MaxPooling2D(2, 2),\n",
        "      tf.keras.layers.Conv2D(64, (3,3), activation='relu'),\n",
        "      tf.keras.layers.MaxPooling2D(2, 2),\n",
        "      tf.keras.layers.Conv2D(64, (3,3), activation='relu'),\n",
        "      tf.keras.layers.MaxPooling2D(2,2),\n",
        "      tf.keras.layers.Conv2D(128, (3,3), activation='relu'),\n",
        "      tf.keras.layers.MaxPooling2D(2,2),\n",
        "      tf.keras.layers.Conv2D(128, (3,3), activation='relu'),\n",
        "      tf.keras.layers.MaxPooling2D(2,2),\n",
        "      tf.keras.layers.Flatten(),\n",
        "      tf.keras.layers.Dense(512, activation='relu'),\n",
        "      tf.keras.layers.Dense(1, activation='sigmoid')\n",
        "  ])"
      ]
    },
    {
      "cell_type": "code",
      "execution_count": null,
      "metadata": {
        "id": "Np-kGiPhV00x"
      },
      "outputs": [],
      "source": [
        "model[0].compile(loss = 'binary_crossentropy', metrics =['acc'], optimizer = tf.keras.optimizers.RMSprop(learning_rate = 1e-4))\n",
        "model[1].compile(loss = 'squared_hinge', metrics =['acc'], optimizer = tf.keras.optimizers.RMSprop(learning_rate = 1e-4))\n",
        "model[2].compile(loss = 'MeanSquaredError', metrics =['acc'], optimizer = tf.keras.optimizers.RMSprop(learning_rate = 1e-4))\n"
      ]
    },
    {
      "cell_type": "code",
      "execution_count": null,
      "metadata": {
        "colab": {
          "base_uri": "https://localhost:8080/"
        },
        "id": "_7PpnIBlW4SV",
        "outputId": "850ec2b9-7404-43b3-b94f-2b2a7cc41699"
      },
      "outputs": [
        {
          "output_type": "stream",
          "name": "stderr",
          "text": [
            "/usr/local/lib/python3.7/dist-packages/ipykernel_launcher.py:9: UserWarning: `Model.fit_generator` is deprecated and will be removed in a future version. Please use `Model.fit`, which supports generators.\n",
            "  if __name__ == '__main__':\n"
          ]
        },
        {
          "output_type": "stream",
          "name": "stdout",
          "text": [
            "Epoch 1/5\n",
            "100/100 [==============================] - 121s 1s/step - loss: 0.6891 - acc: 0.5228 - val_loss: 0.6816 - val_acc: 0.5904\n",
            "Epoch 2/5\n",
            "100/100 [==============================] - 120s 1s/step - loss: 0.6791 - acc: 0.5704 - val_loss: 0.6808 - val_acc: 0.5592\n",
            "Epoch 3/5\n",
            "100/100 [==============================] - 120s 1s/step - loss: 0.6617 - acc: 0.6060 - val_loss: 0.6678 - val_acc: 0.5840\n",
            "Epoch 4/5\n",
            "100/100 [==============================] - 122s 1s/step - loss: 0.6597 - acc: 0.6060 - val_loss: 0.6460 - val_acc: 0.6240\n",
            "Epoch 5/5\n",
            "100/100 [==============================] - 120s 1s/step - loss: 0.6364 - acc: 0.6384 - val_loss: 0.6283 - val_acc: 0.6488\n",
            "CNN Binary Crossentropy: Epochs=20, Train accuracy=0.63840, Validation accuracy=0.64880\n",
            "Epoch 1/5\n",
            "100/100 [==============================] - 121s 1s/step - loss: 1.0162 - acc: 0.4888 - val_loss: 1.0000 - val_acc: 0.4984\n",
            "Epoch 2/5\n",
            "100/100 [==============================] - 119s 1s/step - loss: 1.0000 - acc: 0.5052 - val_loss: 1.0000 - val_acc: 0.4904\n",
            "Epoch 3/5\n",
            "100/100 [==============================] - 120s 1s/step - loss: 1.0000 - acc: 0.5132 - val_loss: 1.0000 - val_acc: 0.4888\n",
            "Epoch 4/5\n",
            "100/100 [==============================] - 119s 1s/step - loss: 1.0000 - acc: 0.5112 - val_loss: 1.0000 - val_acc: 0.5056\n",
            "Epoch 5/5\n",
            "100/100 [==============================] - 121s 1s/step - loss: 1.0000 - acc: 0.5156 - val_loss: 1.0000 - val_acc: 0.5144\n",
            "CNN Squared Hinge: Epochs=20, Train accuracy=0.51560, Validation accuracy=0.51440\n",
            "Epoch 1/5\n",
            "100/100 [==============================] - 120s 1s/step - loss: 0.2494 - acc: 0.5228 - val_loss: 0.2490 - val_acc: 0.5032\n",
            "Epoch 2/5\n",
            "100/100 [==============================] - 120s 1s/step - loss: 0.2453 - acc: 0.5640 - val_loss: 0.2465 - val_acc: 0.5240\n",
            "Epoch 3/5\n",
            "100/100 [==============================] - 121s 1s/step - loss: 0.2386 - acc: 0.5892 - val_loss: 0.2366 - val_acc: 0.5752\n",
            "Epoch 4/5\n",
            "100/100 [==============================] - 121s 1s/step - loss: 0.2322 - acc: 0.6108 - val_loss: 0.2243 - val_acc: 0.6496\n",
            "Epoch 5/5\n",
            "100/100 [==============================] - 121s 1s/step - loss: 0.2187 - acc: 0.6508 - val_loss: 0.2162 - val_acc: 0.6576\n",
            "CNN Mean Squared Error: Epochs=20, Train accuracy=0.65080, Validation accuracy=0.65760\n"
          ]
        }
      ],
      "source": [
        "history = [0] * nets\n",
        "names = [\"Binary Crossentropy\",\"Squared Hinge\",\"Mean Squared Error\"]\n",
        "epochs = 20\n",
        "for j in range(nets):\n",
        "    history[j] = model[j].fit_generator(train_flow,\n",
        "                   validation_data = val_flow,\n",
        "                   steps_per_epoch = 100,\n",
        "                   epochs = 5,\n",
        "                   validation_steps = 50) \n",
        "    print(\"CNN {0}: Epochs={1:d}, Train accuracy={2:.5f}, Validation accuracy={3:.5f}\".format(\n",
        "        names[j],epochs,max(history[j].history['acc']),max(history[j].history['val_acc']) ))"
      ]
    },
    {
      "cell_type": "code",
      "execution_count": null,
      "metadata": {
        "colab": {
          "base_uri": "https://localhost:8080/",
          "height": 350
        },
        "id": "zuNBZk4XWjy1",
        "outputId": "cb919cc4-2308-473f-fc95-f731aafb75eb"
      },
      "outputs": [
        {
          "output_type": "display_data",
          "data": {
            "image/png": "[encoded data removed]",
            "text/plain": [
              "<Figure size 1080x360 with 1 Axes>"
            ]
          },
          "metadata": {
            "needs_background": "light"
          }
        }
      ],
      "source": [
        "# PLOT ACCURACIES\n",
        "styles=['-','--','-.']\n",
        "plt.figure(figsize=(15,5))\n",
        "for i in range(nets):\n",
        "    plt.plot(history[i].history['val_acc'],linestyle=styles[i])\n",
        "plt.title('model accuracy')\n",
        "plt.ylabel('accuracy')\n",
        "plt.xlabel('epoch')\n",
        "plt.legend(names, loc='upper left')\n",
        "axes = plt.gca()\n",
        "axes.set_ylim([0.50,0.8])\n",
        "plt.show()\n"
      ]
    },
    {
      "cell_type": "code",
      "execution_count": null,
      "metadata": {
        "id": "rnTa669ye9UM"
      },
      "outputs": [],
      "source": [
        "def plot_results(model_history):\n",
        "    acc = model_history.history['acc']\n",
        "    val_acc = model_history.history['val_acc']\n",
        "    loss = model_history.history['loss']\n",
        "    val_loss = model_history.history['val_loss']\n",
        "\n",
        "    epochs = range(len(acc))\n",
        "\n",
        "    plt.plot(epochs, acc, 'r', label='Training accuracy')\n",
        "    plt.plot(epochs, val_acc, 'b', label='Validation accuracy')\n",
        "    plt.title('Training and validation accuracy')\n",
        "\n",
        "    plt.figure()\n",
        "\n",
        "    plt.plot(epochs, loss, 'r', label='Training Loss')\n",
        "    plt.plot(epochs, val_loss, 'b', label='Validation Loss')\n",
        "    plt.title('Training and validation loss')\n",
        "    plt.legend()\n",
        "\n",
        "    plt.show()\n"
      ]
    },
    {
      "cell_type": "code",
      "execution_count": null,
      "metadata": {
        "id": "Ckqla8R3oumi"
      },
      "outputs": [],
      "source": [
        "final_cnn = tf.keras.models.Sequential([\n",
        "    tf.keras.layers.Conv2D(32, (3,3), activation='relu', input_shape=(150, 150, 3)),\n",
        "    tf.keras.layers.MaxPooling2D(2, 2),\n",
        "    tf.keras.layers.Conv2D(64, (3,3), activation='relu'),\n",
        "    tf.keras.layers.MaxPooling2D(2, 2),\n",
        "    tf.keras.layers.Conv2D(64, (3,3), activation='relu'),\n",
        "    tf.keras.layers.MaxPooling2D(2,2),\n",
        "    tf.keras.layers.Conv2D(128, (3,3), activation='relu'),\n",
        "    tf.keras.layers.MaxPooling2D(2,2),\n",
        "    tf.keras.layers.Conv2D(128, (3,3), activation='relu'),\n",
        "    tf.keras.layers.MaxPooling2D(2,2),\n",
        "    tf.keras.layers.Flatten(),\n",
        "    tf.keras.layers.Dense(512, activation='relu'),\n",
        "    tf.keras.layers.Dense(1, activation='sigmoid')\n",
        "])"
      ]
    },
    {
      "cell_type": "code",
      "execution_count": null,
      "metadata": {
        "colab": {
          "base_uri": "https://localhost:8080/"
        },
        "id": "4Fo2BzjoozZK",
        "outputId": "c13e2615-8798-4352-d398-0f3abc2fdcdf"
      },
      "outputs": [
        {
          "output_type": "stream",
          "name": "stderr",
          "text": [
            "/usr/local/lib/python3.7/dist-packages/ipykernel_launcher.py:7: UserWarning: `Model.fit_generator` is deprecated and will be removed in a future version. Please use `Model.fit`, which supports generators.\n",
            "  import sys\n"
          ]
        },
        {
          "output_type": "stream",
          "name": "stdout",
          "text": [
            "Epoch 1/10\n",
            "100/100 [==============================] - 122s 1s/step - loss: 0.6923 - acc: 0.5188 - val_loss: 0.6883 - val_acc: 0.5584\n",
            "Epoch 2/10\n",
            "100/100 [==============================] - 120s 1s/step - loss: 0.6849 - acc: 0.5628 - val_loss: 0.6858 - val_acc: 0.5200\n",
            "Epoch 3/10\n",
            "100/100 [==============================] - 121s 1s/step - loss: 0.6660 - acc: 0.5916 - val_loss: 0.6560 - val_acc: 0.6000\n",
            "Epoch 4/10\n",
            "100/100 [==============================] - 121s 1s/step - loss: 0.6494 - acc: 0.6176 - val_loss: 0.6555 - val_acc: 0.5984\n",
            "Epoch 5/10\n",
            "100/100 [==============================] - 122s 1s/step - loss: 0.6429 - acc: 0.6192 - val_loss: 0.6448 - val_acc: 0.6256\n",
            "Epoch 6/10\n",
            "100/100 [==============================] - 120s 1s/step - loss: 0.6277 - acc: 0.6444 - val_loss: 0.6098 - val_acc: 0.6656\n",
            "Epoch 7/10\n",
            "100/100 [==============================] - 121s 1s/step - loss: 0.6053 - acc: 0.6644 - val_loss: 0.6473 - val_acc: 0.6272\n",
            "Epoch 8/10\n",
            "100/100 [==============================] - 121s 1s/step - loss: 0.6085 - acc: 0.6516 - val_loss: 0.5926 - val_acc: 0.6880\n",
            "Epoch 9/10\n",
            "100/100 [==============================] - 121s 1s/step - loss: 0.5962 - acc: 0.6712 - val_loss: 0.5880 - val_acc: 0.6928\n",
            "Epoch 10/10\n",
            "100/100 [==============================] - 120s 1s/step - loss: 0.5790 - acc: 0.6920 - val_loss: 0.5647 - val_acc: 0.7008\n"
          ]
        }
      ],
      "source": [
        "final_cnn.compile(loss = 'binary_crossentropy', metrics =['acc'], optimizer = tf.keras.optimizers.RMSprop(learning_rate = 1e-4))\n",
        "\n",
        "final_cnn_history = final_cnn.fit_generator(train_flow,\n",
        "                   validation_data = val_flow,\n",
        "                   steps_per_epoch = 100,\n",
        "                   epochs = 10,\n",
        "                   validation_steps = 50)"
      ]
    },
    {
      "cell_type": "code",
      "execution_count": null,
      "metadata": {
        "colab": {
          "base_uri": "https://localhost:8080/",
          "height": 545
        },
        "id": "q9-zZHdSoma9",
        "outputId": "84f58f2f-4c41-4d61-d5f4-0ceae7d7454e"
      },
      "outputs": [
        {
          "output_type": "display_data",
          "data": {
            "image/png": "[encoded data removed]",
            "text/plain": [
              "<Figure size 432x288 with 1 Axes>"
            ]
          },
          "metadata": {
            "needs_background": "light"
          }
        },
        {
          "output_type": "display_data",
          "data": {
            "image/png": "[encoded data removed]",
            "text/plain": [
              "<Figure size 432x288 with 1 Axes>"
            ]
          },
          "metadata": {
            "needs_background": "light"
          }
        }
      ],
      "source": [
        "plot_results(final_cnn_history)"
      ]
    },
    {
      "cell_type": "code",
      "execution_count": null,
      "metadata": {
        "colab": {
          "base_uri": "https://localhost:8080/"
        },
        "id": "nDcRkBN-op_R",
        "outputId": "b1da6de2-9de2-4d31-ea08-d47e9024b44d"
      },
      "outputs": [
        {
          "output_type": "stream",
          "name": "stdout",
          "text": [
            "Downloading data from https://storage.googleapis.com/tensorflow/keras-applications/inception_v3/inception_v3_weights_tf_dim_ordering_tf_kernels_notop.h5\n",
            "87916544/87910968 [==============================] - 1s 0us/step\n",
            "87924736/87910968 [==============================] - 1s 0us/step\n"
          ]
        }
      ],
      "source": [
        "pre_trainned_model = tf.keras.applications.InceptionV3(include_top = False,\n",
        "                                                       weights = 'imagenet',\n",
        "                                                       input_shape = (150,150,3))\n",
        "\n",
        "for layer in pre_trainned_model.layers:\n",
        "    layer.trainable = False"
      ]
    },
    {
      "cell_type": "code",
      "execution_count": null,
      "metadata": {
        "id": "c6u9aXdgwJXh"
      },
      "outputs": [],
      "source": [
        "last_layer = pre_trainned_model.get_layer('mixed9_1')\n",
        "\n",
        "pretrainned_last_output = last_layer.output\n",
        "\n",
        "x = tf.keras.layers.Flatten()(pretrainned_last_output)\n",
        "x = tf.keras.layers.Dense(512, activation = 'relu')(x)\n",
        "x = tf.keras.layers.Dropout(0.2)(x)\n",
        "x = tf.keras.layers.Dense(1, activation = 'sigmoid')(x)\n",
        "\n",
        "tf_model = tf.keras.models.Model(pre_trainned_model.input , x)\n"
      ]
    },
    {
      "cell_type": "code",
      "execution_count": null,
      "metadata": {
        "id": "EvL1ZA3EwOWL"
      },
      "outputs": [],
      "source": [
        "desired_accuracy = 0.90\n",
        "class my_callback(tf.keras.callbacks.Callback):\n",
        "    def on_epoch_end(self, epochs, log={}):\n",
        "        if (log.get('val_acc')>desired_accuracy):\n",
        "            print('\\nDesired validation accuracy reached, stop training')\n",
        "            self.model.stop_training = True\n",
        "callbacks = my_callback"
      ]
    },
    {
      "cell_type": "code",
      "execution_count": null,
      "metadata": {
        "colab": {
          "base_uri": "https://localhost:8080/"
        },
        "id": "bZawu1FgwRyK",
        "outputId": "1397de8c-86b4-42a7-fee1-7789fbaf0e3a"
      },
      "outputs": [
        {
          "output_type": "stream",
          "name": "stderr",
          "text": [
            "/usr/local/lib/python3.7/dist-packages/ipykernel_launcher.py:6: UserWarning: `Model.fit_generator` is deprecated and will be removed in a future version. Please use `Model.fit`, which supports generators.\n",
            "  \n"
          ]
        },
        {
          "output_type": "stream",
          "name": "stdout",
          "text": [
            "Epoch 1/10\n",
            "100/100 [==============================] - 168s 2s/step - loss: 0.5187 - acc: 0.8832 - val_loss: 0.1910 - val_acc: 0.9344\n",
            "Epoch 2/10\n",
            "100/100 [==============================] - 159s 2s/step - loss: 0.2270 - acc: 0.9356 - val_loss: 0.1842 - val_acc: 0.9400\n",
            "Epoch 3/10\n",
            "100/100 [==============================] - 158s 2s/step - loss: 0.2015 - acc: 0.9360 - val_loss: 0.2122 - val_acc: 0.9392\n",
            "Epoch 4/10\n",
            "100/100 [==============================] - 158s 2s/step - loss: 0.1642 - acc: 0.9480 - val_loss: 0.1599 - val_acc: 0.9520\n",
            "Epoch 5/10\n",
            "100/100 [==============================] - 158s 2s/step - loss: 0.1453 - acc: 0.9536 - val_loss: 0.1581 - val_acc: 0.9464\n",
            "Epoch 6/10\n",
            "100/100 [==============================] - 158s 2s/step - loss: 0.1672 - acc: 0.9484 - val_loss: 0.1950 - val_acc: 0.9440\n",
            "Epoch 7/10\n",
            "100/100 [==============================] - 157s 2s/step - loss: 0.1407 - acc: 0.9576 - val_loss: 0.2506 - val_acc: 0.9216\n",
            "Epoch 8/10\n",
            "100/100 [==============================] - 158s 2s/step - loss: 0.1343 - acc: 0.9592 - val_loss: 0.1744 - val_acc: 0.9480\n",
            "Epoch 9/10\n",
            "100/100 [==============================] - 159s 2s/step - loss: 0.1093 - acc: 0.9652 - val_loss: 0.1455 - val_acc: 0.9544\n",
            "Epoch 10/10\n",
            "100/100 [==============================] - 158s 2s/step - loss: 0.1397 - acc: 0.9572 - val_loss: 0.2367 - val_acc: 0.9464\n"
          ]
        }
      ],
      "source": [
        "tf_model.compile(loss='binary_crossentropy', metrics = ['acc'], optimizer = tf.keras.optimizers.RMSprop(learning_rate = 1e-4))\n",
        "tf_model_history = tf_model.fit_generator(train_flow,\n",
        "                                           validation_data = val_flow,\n",
        "                                           steps_per_epoch = 100,\n",
        "                                           epochs = 10,\n",
        "                                           validation_steps = 50,\n",
        "#                                            callbacks = [callbacks]\n",
        "                                           )"
      ]
    },
    {
      "cell_type": "code",
      "source": [
        ""
      ],
      "metadata": {
        "id": "az6N6Rxx2MFM"
      },
      "execution_count": null,
      "outputs": []
    }
  ],
  "metadata": {
    "colab": {
      "name": "Project Final.ipynb",
      "provenance": [],
      "collapsed_sections": []
    },
    "kernelspec": {
      "display_name": "Python 3",
      "name": "python3"
    },
    "language_info": {
      "name": "python"
    }
  },
  "nbformat": 4,
  "nbformat_minor": 0
}